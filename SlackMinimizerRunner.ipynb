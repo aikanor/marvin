{
 "cells": [
  {
   "cell_type": "markdown",
   "metadata": {},
   "source": [
    "# We illustrate the use of SlackMinimizer in two ways."
   ]
  },
  {
   "cell_type": "markdown",
   "metadata": {},
   "source": [
    "## The script slack_minimizer.py can be run directly, showing the results on a random forest (see source comments around main() for details)."
   ]
  },
  {
   "cell_type": "code",
   "execution_count": 10,
   "metadata": {
    "collapsed": false
   },
   "outputs": [
    {
     "name": "stdout",
     "output_type": "stream",
     "text": [
      "Trial 0:\tTime = 0.000204086303711\n",
      "Data loaded. \tTime = 1.35821700096\n",
      "Random forest trained. \tTime = 1.5430328846\n",
      "Classifier 1 done.\n",
      "Classifier 2 done.\n",
      "Classifier 3 done.\n",
      "Classifier 4 done.\n",
      "Classifier 5 done.\n",
      "Classifier 6 done.\n",
      "Classifier 7 done.\n",
      "Classifier 8 done.\n",
      "Classifier 9 done.\n",
      "Classifier 10 done.\n",
      "Classifier 11 done.\n",
      "Classifier 12 done.\n",
      "Classifier 13 done.\n",
      "Classifier 14 done.\n",
      "Classifier 15 done.\n",
      "Classifier 16 done.\n",
      "Classifier 17 done.\n",
      "Classifier 18 done.\n",
      "Classifier 19 done.\n",
      "Classifier 20 done.\n",
      "Featurizing done. \tTime = 4.03397393227\n",
      "After iteration  0:\t Time = 0.04558801651\n",
      "Holdout: \t Error = 0.217487202559\t AUC: 0.644603637612\n",
      "Validation: \t Error = 0.218071679651\t AUC: 0.668029220661\n",
      "After iteration  5:\t Time = 0.207148075104\n",
      "Holdout: \t Error = 0.230581205342\t AUC: 0.784831846259\n",
      "Validation: \t Error = 0.224108488536\t AUC: 0.79155268629\n",
      "After iteration  10:\t Time = 0.468198060989\n",
      "Holdout: \t Error = 0.235125612608\t AUC: 0.800956112255\n",
      "Validation: \t Error = 0.229871909911\t AUC: 0.808502545345\n",
      "After iteration  15:\t Time = 0.646131038666\n",
      "Holdout: \t Error = 0.230763410828\t AUC: 0.824329863494\n",
      "Validation: \t Error = 0.228736741659\t AUC: 0.81475257791\n",
      "After iteration  20:\t Time = 0.839918136597\n",
      "Holdout: \t Error = 0.223397819025\t AUC: 0.837060550599\n",
      "Validation: \t Error = 0.224765784966\t AUC: 0.825796299481\n",
      "After iteration  25:\t Time = 1.01651120186\n",
      "Holdout: \t Error = 0.213786705966\t AUC: 0.848575840769\n",
      "Validation: \t Error = 0.219069866658\t AUC: 0.828013380645\n",
      "After iteration  30:\t Time = 1.3129491806\n",
      "Holdout: \t Error = 0.210271321422\t AUC: 0.855749065813\n",
      "Validation: \t Error = 0.218420832434\t AUC: 0.827773696195\n",
      "After iteration  35:\t Time = 1.50476813316\n",
      "Holdout: \t Error = 0.209212876823\t AUC: 0.858570693205\n",
      "Validation: \t Error = 0.219139390993\t AUC: 0.831157936421\n",
      "After iteration  40:\t Time = 1.68260407448\n",
      "Holdout: \t Error = 0.208858159975\t AUC: 0.859180774804\n",
      "Validation: \t Error = 0.21981003489\t AUC: 0.827560064402\n",
      "After iteration  45:\t Time = 1.84331321716\n",
      "Holdout: \t Error = 0.208347483837\t AUC: 0.856087470449\n",
      "Validation: \t Error = 0.219845161274\t AUC: 0.825525351841\n",
      "After iteration  50:\t Time = 2.04832911491\n",
      "Holdout: \t Error = 0.207004057018\t AUC: 0.851168687562\n",
      "Validation: \t Error = 0.218349944114\t AUC: 0.823128507339\n",
      "After iteration  55:\t Time = 2.262622118\n",
      "Holdout: \t Error = 0.208226428329\t AUC: 0.855548882788\n",
      "Validation: \t Error = 0.220370574696\t AUC: 0.826963458542\n",
      "After iteration  60:\t Time = 2.49097704887\n",
      "Holdout: \t Error = 0.207915272212\t AUC: 0.855825326012\n",
      "Validation: \t Error = 0.220148806257\t AUC: 0.823383823384\n",
      "After iteration  65:\t Time = 2.67342710495\n",
      "Holdout: \t Error = 0.20782726421\t AUC: 0.855596545413\n",
      "Validation: \t Error = 0.220131155719\t AUC: 0.822146322146\n",
      "After iteration  70:\t Time = 2.8626871109\n",
      "Holdout: \t Error = 0.207772664317\t AUC: 0.855625142988\n",
      "Validation: \t Error = 0.220122794319\t AUC: 0.822135901083\n",
      "After iteration  75:\t Time = 3.04497504234\n",
      "Holdout: \t Error = 0.207712978688\t AUC: 0.855558415313\n",
      "Validation: \t Error = 0.220084498505\t AUC: 0.822135901083\n",
      "After iteration  80:\t Time = 3.27176117897\n",
      "Holdout: \t Error = 0.207662041534\t AUC: 0.855510752688\n",
      "Validation: \t Error = 0.220112486518\t AUC: 0.820984373616\n",
      "After iteration  85:\t Time = 3.42739319801\n",
      "Holdout: \t Error = 0.2076200191\t AUC: 0.854929268665\n",
      "Validation: \t Error = 0.220086197331\t AUC: 0.820197583355\n",
      "After iteration  90:\t Time = 3.70442700386\n",
      "Holdout: \t Error = 0.207363215174\t AUC: 0.855391596126\n",
      "Validation: \t Error = 0.219833364214\t AUC: 0.82098176835\n",
      "After iteration  95:\t Time = 3.85736703873\n",
      "Holdout: \t Error = 0.207035556698\t AUC: 0.85202661481\n",
      "Validation: \t Error = 0.219642120976\t AUC: 0.820906215643\n",
      "Final validation AUC:\t0.822055137845\n",
      "Written to files:\tlogs/muf_ssl_1000_tailprob0.01_auc.csv,\t logs/muf_ssl_1000_tailprob0.01_err.csv\n"
     ]
    }
   ],
   "source": [
    "%run slack_minimizer.py data/a1a_all.csv 1000 20000 -f 0.01 -k -1 -d 100"
   ]
  },
  {
   "cell_type": "markdown",
   "metadata": {},
   "source": [
    "## We also give an example in which many heterogeneous non-tree classifiers are combined with SlackMinimizer."
   ]
  },
  {
   "cell_type": "code",
   "execution_count": 13,
   "metadata": {
    "collapsed": false
   },
   "outputs": [],
   "source": [
    "import composite_feature\n",
    "import numpy as np\n",
    "import scipy as sp\n",
    "import sklearn.linear_model, sklearn.ensemble\n",
    "import muffled_utils\n",
    "import time\n",
    "import sklearn.metrics"
   ]
  },
  {
   "cell_type": "code",
   "execution_count": 14,
   "metadata": {
    "collapsed": false
   },
   "outputs": [
    {
     "name": "stdout",
     "output_type": "stream",
     "text": [
      "Data loaded. \tTime = 0.768465995789\n"
     ]
    }
   ],
   "source": [
    "labeled_file = 'data/a1a_all.csv'\n",
    "labeled_set_size = 1000\n",
    "unlabeled_set_size = 10000\n",
    "holdout_set_size = 500\n",
    "validation_set_size = 1000\n",
    "inittime = time.time()\n",
    "(x_train, y_train, x_unl, y_unl, x_out, y_out, x_validate, y_validate) = muffled_utils.read_random_data_from_csv(\n",
    "    labeled_file, labeled_set_size, unlabeled_set_size, holdout_set_size, validation_set_size)\n",
    "print('Data loaded. \\tTime = ' + str(time.time() - inittime))"
   ]
  },
  {
   "cell_type": "code",
   "execution_count": 15,
   "metadata": {
    "collapsed": false
   },
   "outputs": [
    {
     "name": "stdout",
     "output_type": "stream",
     "text": [
      "('Plain RF trained', 0.279616117477417)\n",
      "('DT trained', 0.28757500648498535)\n",
      "('AdaBoost trained', 0.42799901962280273)\n",
      "('LogitBoost trained', 0.5897660255432129)\n",
      "('Logistic regression trained', 0.6009221076965332)\n"
     ]
    }
   ],
   "source": [
    "# Now train a few different base classifiers\n",
    "inittime = time.time()\n",
    "skcl = []\n",
    "clrf = sklearn.ensemble.RandomForestClassifier(n_estimators=50, n_jobs=-1)\n",
    "skcl.append(('Plain RF', clrf))\n",
    "cldt = sklearn.tree.DecisionTreeClassifier()\n",
    "skcl.append(('DT', cldt))\n",
    "cletf = sklearn.ensemble.AdaBoostClassifier(n_estimators=50, algorithm='SAMME')\n",
    "skcl.append(('AdaBoost', cletf))\n",
    "clgb = sklearn.ensemble.GradientBoostingClassifier(n_estimators=50)#, loss='deviance')\n",
    "skcl.append(('LogitBoost', clgb))\n",
    "cllogistic = sklearn.linear_model.LogisticRegression()#(loss='log')\n",
    "skcl.append(('Logistic regression', cllogistic))\n",
    "#clgp = sklearn.gaussian_process.GaussianProcessClassifier()\n",
    "#skcl.append(('Gaussian process', clgp))\n",
    "# Now x_train is a (LABELED_SET_SIZE x d) matrix, and y_train a vector of size LABELED_SET_SIZE.\n",
    "for i in range(len(skcl)):\n",
    "    skcl[i][1].fit(x_train, y_train)\n",
    "    print(skcl[i][0] + ' trained', time.time() - inittime)\n",
    "classifier_list = list(zip(*skcl)[1])"
   ]
  },
  {
   "cell_type": "code",
   "execution_count": 16,
   "metadata": {
    "collapsed": false
   },
   "outputs": [
    {
     "name": "stdout",
     "output_type": "stream",
     "text": [
      "[0.73201784024868233, 0.69135018245708879, 0.74608730909582355, 0.73031490741992167, 0.75761589403973517]\n"
     ]
    }
   ],
   "source": [
    "print [sklearn.metrics.roc_auc_score(y_validate, c.predict(x_validate)) for c in classifier_list]"
   ]
  },
  {
   "cell_type": "code",
   "execution_count": 24,
   "metadata": {
    "collapsed": false
   },
   "outputs": [
    {
     "name": "stdout",
     "output_type": "stream",
     "text": [
      "Classifier 1 done.\n",
      "Classifier 2 done.\n",
      "Classifier 3 done.\n",
      "Classifier 4 done.\n",
      "Classifier 5 done.\n",
      "Featurizing done. \tTime = 1.45948219299\n"
     ]
    }
   ],
   "source": [
    "k = 0\n",
    "failure_prob = 0.0005\n",
    "inittime = time.time()\n",
    "(b_vector, allfeats_out, allfeats_unl, allfeats_val) = composite_feature.predict_multiple(\n",
    "    classifier_list, x_out, x_unl, x_validate, y_out=y_out, k=k, \n",
    "    failure_prob=failure_prob, from_sklearn_rf=False, use_tree_partition=False)\n",
    "print ('Featurizing done. \\tTime = ' + str(time.time() - inittime))"
   ]
  },
  {
   "cell_type": "code",
   "execution_count": 25,
   "metadata": {
    "collapsed": false
   },
   "outputs": [
    {
     "name": "stdout",
     "output_type": "stream",
     "text": [
      "After iteration  0:\t Time = 0.00942802429199\n",
      "Holdout: \t Error = 0.317332968464\t AUC: 0.749843674008\n",
      "Validation: \t Error = 0.325109400266\t AUC: 0.747871333964\n",
      "After iteration  5:\t Time = 0.0521280765533\n",
      "Holdout: \t Error = 0.19193955162\t AUC: 0.806121031057\n",
      "Validation: \t Error = 0.202221024037\t AUC: 0.793231517773\n",
      "After iteration  10:\t Time = 0.111564159393\n",
      "Holdout: \t Error = 0.191931702334\t AUC: 0.806121031057\n",
      "Validation: \t Error = 0.202212941786\t AUC: 0.793231517773\n",
      "After iteration  15:\t Time = 0.121046066284\n",
      "Holdout: \t Error = 0.191909829871\t AUC: 0.806121031057\n",
      "Validation: \t Error = 0.202191181511\t AUC: 0.793231517773\n",
      "After iteration  20:\t Time = 0.129214048386\n",
      "Holdout: \t Error = 0.191903260385\t AUC: 0.806121031057\n",
      "Validation: \t Error = 0.20218490245\t AUC: 0.793231517773\n",
      "After iteration  25:\t Time = 0.137324094772\n",
      "Holdout: \t Error = 0.191911789491\t AUC: 0.806121031057\n",
      "Validation: \t Error = 0.20219210679\t AUC: 0.793231517773\n",
      "After iteration  30:\t Time = 0.146389961243\n",
      "Holdout: \t Error = 0.191900347907\t AUC: 0.806121031057\n",
      "Validation: \t Error = 0.202180607701\t AUC: 0.793231517773\n",
      "After iteration  35:\t Time = 0.156490087509\n",
      "Holdout: \t Error = 0.19189377842\t AUC: 0.806121031057\n",
      "Validation: \t Error = 0.20217432864\t AUC: 0.793231517773\n",
      "After iteration  40:\t Time = 0.165151119232\n",
      "Holdout: \t Error = 0.191908383339\t AUC: 0.806121031057\n",
      "Validation: \t Error = 0.202187320726\t AUC: 0.793231517773\n",
      "After iteration  45:\t Time = 0.173420190811\n",
      "Holdout: \t Error = 0.19189121858\t AUC: 0.806121031057\n",
      "Validation: \t Error = 0.202170318835\t AUC: 0.793231517773\n"
     ]
    }
   ],
   "source": [
    "import slack_minimizer\n",
    "gradh = slack_minimizer.SlackMinimizer(\n",
    "    b_vector, allfeats_unl, allfeats_out, y_out, unlabeled_labels=y_unl,\n",
    "    validation_set=allfeats_val, validation_labels=y_validate)\n",
    "statauc = gradh.sgd(50, unl_stride_size=100, linesearch=True, logging_interval=5)"
   ]
  }
 ],
 "metadata": {
  "kernelspec": {
   "display_name": "Python 2",
   "language": "python",
   "name": "python2"
  },
  "language_info": {
   "codemirror_mode": {
    "name": "ipython",
    "version": 2
   },
   "file_extension": ".py",
   "mimetype": "text/x-python",
   "name": "python",
   "nbconvert_exporter": "python",
   "pygments_lexer": "ipython2",
   "version": "2.7.11"
  }
 },
 "nbformat": 4,
 "nbformat_minor": 0
}
